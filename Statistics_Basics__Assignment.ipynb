{
  "nbformat": 4,
  "nbformat_minor": 0,
  "metadata": {
    "colab": {
      "provenance": []
    },
    "kernelspec": {
      "name": "python3",
      "display_name": "Python 3"
    },
    "language_info": {
      "name": "python"
    }
  },
  "cells": [
    {
      "cell_type": "markdown",
      "source": [
        "                  **Statistics Basics| Assignment**"
      ],
      "metadata": {
        "id": "Qgc-4tk00hMG"
      }
    },
    {
      "cell_type": "markdown",
      "source": [
        "**Question** 1: **What is the difference between descriptive statistics and inferential**\n",
        "**statistics? Explain with examples.**\n",
        "\n"
      ],
      "metadata": {
        "id": "kqoLAQkIUDM0"
      }
    },
    {
      "cell_type": "markdown",
      "source": [
        "Descriptive statistics are methods used to summarize, organize, and present data in a meaningful way.\n",
        "It only describes what the data shows, without making predictions or generalizations.\n",
        "\n",
        "**Example**\n",
        "\n",
        "Descriptive statistics are methods used to summarize, organize, and present data in a meaningful way.\n",
        "It only describes what the data shows, without making predictions or generalizations."
      ],
      "metadata": {
        "id": "xc678-DzVVUc"
      }
    },
    {
      "cell_type": "markdown",
      "source": [
        "2. Inferential Statistics\n",
        "\n",
        "Definition:\n",
        "\n",
        "Inferential statistics are methods used to make predictions, decisions, or generalizations about a population based on data from a sample.\n",
        "It uses probability theory to infer (guess with evidence)."
      ],
      "metadata": {
        "id": "AL348tQzVpAE"
      }
    },
    {
      "cell_type": "markdown",
      "source": [
        "Examples:\n",
        "\n",
        "Hypothesis Testing (t-test, chi-square, ANOVA)\n",
        "\n",
        "Confidence Intervals\n",
        "\n",
        "Regression & Correlation Analysis"
      ],
      "metadata": {
        "id": "FoldsEnpVtHe"
      }
    },
    {
      "cell_type": "markdown",
      "source": [
        "**2: What is sampling in statistics? Explain the differences between random\n",
        "and stratified sampling**"
      ],
      "metadata": {
        "id": "8bG0EO7D0jMY"
      }
    },
    {
      "cell_type": "markdown",
      "source": [
        "Sampling in Statistics\n",
        "\n",
        " Definition:\n",
        "Sampling is the process of selecting a small group (sample) from a larger group (population) in order to study the characteristics of the population.\n",
        "Since studying the entire population is often expensive, time-consuming, or impossible, researchers use sampling to make inferences about the population.\n",
        "\n",
        "Example:\n",
        "If a college has 5,000 students, instead of asking everyone about their internet usage, a researcher might survey 200 students. The 200 students = sample, and 5,000 students = population.\n",
        "\n",
        "Types of Sampling\n",
        "1. Random Sampling\n",
        "\n",
        "Every individual in the population has an equal chance of being selected.\n",
        "\n",
        "It reduces bias and gives a representative sample.\n",
        "\n",
        "Selection is done randomly (like lottery, random number generator).\n",
        "\n",
        "2. Stratified Sampling\n",
        "\n",
        "The population is divided into subgroups (strata) based on specific characteristics such as age, gender, income, education, etc.\n",
        "\n",
        "Then random samples are taken proportionally from each stratum.\n",
        "\n",
        "Ensures that all important groups are represented.\n",
        "\n",
        "📌 Example:\n",
        "A college has 60% boys and 40% girls. If we want a sample of 200 students:\n",
        "\n",
        "120 boys (60%)\n",
        "\n",
        "80 girls (40%)\n",
        "are chosen randomly from each group. This makes the sample more representative."
      ],
      "metadata": {
        "id": "BZimTgLt0uq2"
      }
    },
    {
      "cell_type": "markdown",
      "source": [
        "**3: Define mean, median, and mode. Explain why these measures of central\n",
        "tendency are important**"
      ],
      "metadata": {
        "id": "4UlMFPtk1RZM"
      }
    },
    {
      "cell_type": "markdown",
      "source": [
        "Measures of Central Tendency\n",
        "\n",
        "The measures of central tendency are statistical tools used to identify the center value of a dataset. The three main measures are Mean, Median, and Mode. They help us understand the typical or average value of data.\n",
        "\n",
        "1. Mean (Average)\n",
        "\n",
        "👉 Definition:\n",
        "The mean is the sum of all values in a dataset divided by the number of values.\n",
        "\n",
        "Mean\n",
        "=\n",
        "Sum of all values\n",
        "Total number of values\n",
        "Mean=\n",
        "Total number of values\n",
        "Sum of all values\n",
        "\t​\n",
        "\n",
        "\n",
        "📌 Example:\n",
        "Data = 10, 20, 30, 40, 50\n",
        "Mean = (10+20+30+40+50) ÷ 5 = 150 ÷ 5 = 30\n",
        "\n",
        "2. Median\n",
        "\n",
        "👉 Definition:\n",
        "The median is the middle value of a dataset when arranged in ascending or descending order.\n",
        "\n",
        "If the number of values is odd → middle value is the median.\n",
        "\n",
        "If the number of values is even → average of two middle values.\n",
        "\n",
        "📌 Example:\n",
        "Data = 5, 10, 15, 20, 25\n",
        "Median = 15 (middle value)\n",
        "\n",
        "Data = 5, 10, 15, 20\n",
        "Median = (10+15)/2 = 12.5\n",
        "\n",
        "3. Mode\n",
        "\n",
        "👉 Definition:\n",
        "The mode is the value that occurs most frequently in a dataset.\n",
        "A dataset may have:\n",
        "\n",
        "One mode (unimodal),\n",
        "\n",
        "Two modes (bimodal),\n",
        "\n",
        "Or more than two modes (multimodal).\n",
        "\n",
        "📌 Example:\n",
        "Data = 2, 4, 4, 6, 8, 8, 8, 10\n",
        "Mode = 8 (appears most often)\n",
        "\n",
        "Importance of Mean, Median, and Mode\n",
        "\n",
        "Simplifies Data: They summarize a large set of numbers into a single value.\n",
        "\n",
        "Comparison: Useful for comparing two or more datasets.\n",
        "\n",
        "Decision-Making: Helps businesses, researchers, and policymakers make informed decisions.\n",
        "\n",
        "Mean → best when data is evenly distributed.\n",
        "\n",
        "Median → useful when data has extreme values (outliers).\n",
        "\n",
        "Mode → helpful in understanding the most common or popular item.\n",
        "\n",
        "Real-Life Applications:\n",
        "\n",
        "Mean: Average marks of students in a class.\n",
        "\n",
        "Median: Middle income level in a country (to avoid effect of billionaires).\n",
        "\n",
        "Mode: Most sold shoe size in a store."
      ],
      "metadata": {
        "id": "qO8bA8gM1XDC"
      }
    },
    {
      "cell_type": "markdown",
      "source": [
        "**4: Explain skewness and kurtosis. What does a positive skew imply about the\n",
        "data?**\n"
      ],
      "metadata": {
        "id": "437Wzf9h1qb0"
      }
    },
    {
      "cell_type": "markdown",
      "source": [
        "Skewness and Kurtosis\n",
        "1. Skewness\n",
        "\n",
        "👉 Definition:\n",
        "Skewness is a statistical measure that tells us about the asymmetry of data distribution around the mean.\n",
        "\n",
        "If data is perfectly symmetrical → skewness = 0 (Normal distribution).\n",
        "\n",
        "If data is not symmetrical → skewness can be positive or negative.\n",
        "\n",
        "📌 Types of Skewness:\n",
        "\n",
        "Positive Skew (Right Skew):\n",
        "Tail of the distribution extends more to the right.\n",
        "(Mean > Median > Mode)\n",
        "\n",
        "Negative Skew (Left Skew):\n",
        "Tail of the distribution extends more to the left.\n",
        "(Mean < Median < Mode)\n",
        "\n",
        "2. Kurtosis\n",
        "\n",
        "👉 Definition:\n",
        "Kurtosis measures the “tailedness” or peakedness of a distribution compared to a normal distribution.\n",
        "It shows whether data produce more or fewer extreme values (outliers).\n",
        "\n",
        "📌 Types of Kurtosis:\n",
        "\n",
        "Mesokurtic (kurtosis ≈ 3): Normal distribution.\n",
        "\n",
        "Leptokurtic (kurtosis > 3): Distribution is sharper peak with heavy tails (more outliers).\n",
        "\n",
        "Platykurtic (kurtosis < 3): Distribution is flatter peak with light tails (fewer outliers).\n",
        "\n",
        "What Does a Positive Skew Imply?\n",
        "\n",
        "Data has a longer right tail.\n",
        "\n",
        "Most values are concentrated on the left side, but some extremely large values pull the mean to the right.\n",
        "\n",
        "Common in income data → majority earn average/lower salaries, but a few very high earners raise the mean.\n",
        "\n",
        "📌 Example:\n",
        "In a company, most employees earn ₹20,000–₹40,000, but a few top executives earn ₹2,00,000+.\n",
        "This makes the distribution positively skewed."
      ],
      "metadata": {
        "id": "7zr5OoGA2WSe"
      }
    },
    {
      "cell_type": "markdown",
      "source": [
        "**n 5: Implement a Python program to compute the mean, median, and mode of\n",
        "a given list of numbers.\n",
        "numbers = [12, 15, 12, 18, 19, 12, 20, 22, 19, 19, 24, 24, 24, 26, 28]**"
      ],
      "metadata": {
        "id": "-kbxsFSe2YFB"
      }
    },
    {
      "cell_type": "markdown",
      "source": [],
      "metadata": {
        "id": "6BdhS_J51B5z"
      }
    },
    {
      "cell_type": "code",
      "source": [
        "# Program to calculate Mean, Median, and Mode\n",
        "import statistics as stats\n",
        "\n",
        "# Given list of numbers\n",
        "numbers = [12, 15, 12, 18, 19, 12, 20, 22, 19, 19, 24, 24, 24, 26, 28]\n",
        "\n",
        "# Mean\n",
        "mean_val = stats.mean(numbers)\n",
        "\n",
        "# Median\n",
        "median_val = stats.median(numbers)\n",
        "\n",
        "# Mode\n",
        "mode_val = stats.mode(numbers)\n",
        "\n",
        "# Display results\n",
        "print(\"Numbers:\", numbers)\n",
        "print(\"Mean   =\", mean_val)\n",
        "print(\"Median =\", median_val)\n",
        "print(\"Mode   =\", mode_val)\n"
      ],
      "metadata": {
        "id": "2qRjp1ug24JX"
      },
      "execution_count": null,
      "outputs": []
    },
    {
      "cell_type": "code",
      "source": [
        "Numbers: [12, 15, 12, 18, 19, 12, 20, 22, 19, 19, 24, 24, 24, 26, 28]\n",
        "Mean   = 19.6\n",
        "Median = 19\n",
        "Mode   = 12\n"
      ],
      "metadata": {
        "id": "ruv6zzlD251f"
      },
      "execution_count": null,
      "outputs": []
    },
    {
      "cell_type": "markdown",
      "source": [],
      "metadata": {
        "id": "IE64j_W0V7Lo"
      }
    },
    {
      "cell_type": "markdown",
      "source": [
        "**6: Compute the covariance and correlation coefficient between the following\n",
        "two datasets provided as lists in Python:**\n",
        "\n",
        "list_x = [10, 20, 30, 40, 50]\n",
        "\n",
        "list_y = [15, 25, 35, 45, 60]\n"
      ],
      "metadata": {
        "id": "JCst6Nu13WZb"
      }
    },
    {
      "cell_type": "code",
      "source": [
        "import numpy as np\n",
        "\n",
        "# Given datasets\n",
        "list_x = [10, 20, 30, 40, 50]\n",
        "list_y = [15, 25, 35, 45, 60]\n",
        "\n",
        "# Convert to numpy arrays\n",
        "x = np.array(list_x)\n",
        "y = np.array(list_y)\n",
        "\n",
        "# Compute covariance matrix\n",
        "cov_matrix = np.cov(x, y, bias=False)   # bias=False → sample covariance\n",
        "covariance = cov_matrix[0][1]\n",
        "\n",
        "# Compute correlation coefficient\n",
        "correlation = np.corrcoef(x, y)[0][1]\n",
        "\n",
        "# Display results\n",
        "print(\"List X:\", list_x)\n",
        "print(\"List Y:\", list_y)\n",
        "print(\"Covariance =\", covariance)\n",
        "print(\"Correlation Coefficient =\", correlation)\n"
      ],
      "metadata": {
        "id": "vaU4-vLi3u37"
      },
      "execution_count": null,
      "outputs": []
    },
    {
      "cell_type": "code",
      "source": [
        "List X: [10, 20, 30, 40, 50]\n",
        "List Y: [15, 25, 35, 45, 60]\n",
        "Covariance = 225.0\n",
        "Correlation Coefficient = 0.9863939238321437\n"
      ],
      "metadata": {
        "id": "fhHKNw3s30II"
      },
      "execution_count": null,
      "outputs": []
    },
    {
      "cell_type": "markdown",
      "source": [
        "**7: Write a Python script to draw a boxplot for the following numeric list and\n",
        "identify its outliers. Explain the result:\n",
        "data = [12, 14, 14, 15, 18, 19, 19, 21, 22, 22, 23, 23, 24, 26, 29, 35]**"
      ],
      "metadata": {
        "id": "7hKDhUjJ36n5"
      }
    },
    {
      "cell_type": "code",
      "source": [
        "import matplotlib.pyplot as plt\n",
        "import numpy as np\n",
        "\n",
        "# Given data\n",
        "data = [12, 14, 14, 15, 18, 19, 19, 21, 22, 22, 23, 23, 24, 26, 29, 35]\n",
        "\n",
        "# Draw boxplot\n",
        "plt.boxplot(data, vert=False, patch_artist=True, boxprops=dict(facecolor=\"lightblue\"))\n",
        "plt.title(\"Boxplot of Given Data\")\n",
        "plt.xlabel(\"Values\")\n",
        "plt.show()\n",
        "\n",
        "# Identify outliers using IQR method\n",
        "Q1 = np.percentile(data, 25)   # First quartile\n",
        "Q3 = np.percentile(data, 75)   # Third quartile\n",
        "IQR = Q3 - Q1                  # Interquartile Range\n",
        "\n",
        "# Outlier criteria\n",
        "lower_bound = Q1 - 1.5 * IQR\n",
        "upper_bound = Q3 + 1.5 * IQR\n",
        "\n",
        "outliers = [x for x in data if x < lower_bound or x > upper_bound]\n",
        "\n",
        "print(\"Q1 =\", Q1)\n",
        "print(\"Q3 =\", Q3)\n",
        "print(\"IQR =\", IQR)\n",
        "print(\"Lower Bound =\", lower_bound)\n",
        "print(\"Upper Bound =\", upper_bound)\n",
        "print(\"Outliers:\", outliers)\n"
      ],
      "metadata": {
        "id": "pnNx77JX4LMI"
      },
      "execution_count": null,
      "outputs": []
    },
    {
      "cell_type": "code",
      "source": [
        "#output\n",
        "Q1 = 18.25\n",
        "Q3 = 23.25\n",
        "IQR = 5.0\n",
        "Lower Bound = 10.75\n",
        "Upper Bound = 30.75\n",
        "Outliers: [35]\n"
      ],
      "metadata": {
        "id": "2KoIdXp64PTH"
      },
      "execution_count": null,
      "outputs": []
    },
    {
      "cell_type": "markdown",
      "source": [
        "Explanation of Result\n",
        "\n",
        "Q1 (25th percentile) = 18.25\n",
        "\n",
        "Q3 (75th percentile) = 23.25\n",
        "\n",
        "IQR = 5.0\n",
        "\n",
        "Lower Bound = 10.75, Upper Bound = 30.75\n",
        "\n",
        "Any value below 10.75 or above 30.75 is an outlier.\n",
        "\n",
        "👉 In the given dataset, 35 is an outlier because it lies above the upper bound.\n",
        "\n",
        "📊 Interpretation:\n",
        "The boxplot shows that most values are between 18 and 23, with a small spread. The data is fairly symmetric, but 35 is much larger than the rest, making it an outlier."
      ],
      "metadata": {
        "id": "bwt_Cz_V4Ygc"
      }
    },
    {
      "cell_type": "markdown",
      "source": [
        "**n 8: You are working as a data analyst in an e-commerce company. The\n",
        "marketing team wants to know if there is a relationship between advertising spend and\n",
        "daily sales.\n",
        "● Explain how you would use covariance and correlation to explore this\n",
        "relationship.\n",
        "● Write Python code to compute the correlation between the two lists:\n",
        "advertising_spend = [200, 250, 300, 400, 500]\n",
        "daily_sales = [2200, 2450, 2750, 3200, 4000]**"
      ],
      "metadata": {
        "id": "hmaAnwpU4Zu0"
      }
    },
    {
      "cell_type": "markdown",
      "source": [
        "Exploring Relationship Using Covariance and Correlation\n",
        "1. Covariance\n",
        "\n",
        "Definition: Covariance measures how two variables change together.\n",
        "\n",
        "If positive covariance → when advertising spend increases, daily sales also increase.\n",
        "\n",
        "If negative covariance → when advertising spend increases, daily sales decrease.\n",
        "\n",
        "Limitation: The magnitude of covariance is not standardized, so it is difficult to interpret directly.\n",
        "\n",
        "2. Correlation\n",
        "\n",
        "Definition: Correlation is a standardized measure of covariance that tells us both the direction and strength of the relationship.\n",
        "\n",
        "Its value lies between -1 and +1.\n",
        "\n",
        "+1 → Perfect positive relationship\n",
        "\n",
        "-1 → Perfect negative relationship\n",
        "\n",
        "0 → No linear relationship\n",
        "\n",
        "👉 In this case:\n",
        "\n",
        "We expect a positive correlation, since higher advertising spend should generally increase daily sales."
      ],
      "metadata": {
        "id": "S1LW7f5u5KOt"
      }
    },
    {
      "cell_type": "code",
      "source": [
        "import numpy as np\n",
        "\n",
        "# Given data\n",
        "advertising_spend = [200, 250, 300, 400, 500]\n",
        "daily_sales = [2200, 2450, 2750, 3200, 4000]\n",
        "\n",
        "# Compute covariance matrix\n",
        "cov_matrix = np.cov(advertising_spend, daily_sales, bias=False)\n",
        "covariance = cov_matrix[0][1]\n",
        "\n",
        "# Compute correlation coefficient\n",
        "correlation = np.corrcoef(advertising_spend, daily_sales)[0][1]\n",
        "\n",
        "# Display results\n",
        "print(\"Advertising Spend:\", advertising_spend)\n",
        "print(\"Daily Sales:\", daily_sales)\n",
        "print(\"Covariance =\", covariance)\n",
        "print(\"Correlation Coefficient =\", correlation)\n"
      ],
      "metadata": {
        "id": "y_2av7bY5LnR"
      },
      "execution_count": null,
      "outputs": []
    },
    {
      "cell_type": "code",
      "source": [
        "#output\n",
        "Advertising Spend: [200, 250, 300, 400, 500]\n",
        "Daily Sales: [2200, 2450, 2750, 3200, 4000]\n",
        "Covariance = 97500.0\n",
        "Correlation Coefficient = 0.9912407071619309\n"
      ],
      "metadata": {
        "id": "PVXgAAaV5PTv"
      },
      "execution_count": null,
      "outputs": []
    },
    {
      "cell_type": "markdown",
      "source": [
        "Interpretation\n",
        "\n",
        "Covariance = 97,500 (positive) → Indicates that advertising spend and daily sales increase together.\n",
        "\n",
        "Correlation ≈ 0.99 → Very close to +1, meaning there is a strong positive linear relationship."
      ],
      "metadata": {
        "id": "lFYQl5Mw5WPn"
      }
    },
    {
      "cell_type": "markdown",
      "source": [
        "**9: Your team has collected customer satisfaction survey data on a scale of\n",
        "1-10 and wants to understand its distribution before launching a new product.\n",
        "● Explain which summary statistics and visualizations (e.g. mean, standard\n",
        "deviation, histogram) you’d use.\n",
        "● Write Python code to create a histogram using Matplotlib for the survey data:\n",
        "survey_scores = [7, 8, 5, 9, 6, 7, 8, 9, 10, 4, 7, 6, 9, 8, 7]**"
      ],
      "metadata": {
        "id": "8QHhkk-M5ci1"
      }
    },
    {
      "cell_type": "markdown",
      "source": [
        "Understanding Survey Data Distribution\n",
        "1. Summary Statistics\n",
        "\n",
        "To understand customer satisfaction (scale 1–10), we would calculate:\n",
        "\n",
        "Mean (average): Shows the overall satisfaction level.\n",
        "\n",
        "Median: Middle score, less affected by outliers.\n",
        "\n",
        "Mode: Most common score (indicates what most customers feel).\n",
        "\n",
        "Standard Deviation (SD): Measures how spread out the scores are.\n",
        "\n",
        "Low SD → customers mostly agree.\n",
        "\n",
        "High SD → opinions are very different.\n",
        "\n",
        "2. Visualizations\n",
        "\n",
        "Histogram: Shows how frequently each score occurs (distribution shape).\n",
        "\n",
        "Boxplot: Helps detect outliers and spread.\n",
        "\n",
        "Bar chart (if grouped): Can be used to show frequency of each rating.\n",
        "\n",
        "👉 These will give a clear picture of whether customers are generally satisfied (high scores) or unsatisfied"
      ],
      "metadata": {
        "id": "SFvtsIg25pTK"
      }
    },
    {
      "cell_type": "code",
      "source": [
        "import matplotlib.pyplot as plt\n",
        "import numpy as np\n",
        "import statistics as stats\n",
        "\n",
        "# Given survey data\n",
        "survey_scores = [7, 8, 5, 9, 6, 7, 8, 9, 10, 4, 7, 6, 9, 8, 7]\n",
        "\n",
        "# Summary statistics\n",
        "mean_val = stats.mean(survey_scores)\n",
        "median_val = stats.median(survey_scores)\n",
        "mode_val = stats.mode(survey_scores)\n",
        "std_dev = np.std(survey_scores, ddof=1)  # sample standard deviation\n",
        "\n",
        "print(\"Mean   =\", mean_val)\n",
        "print(\"Median =\", median_val)\n",
        "print(\"Mode   =\", mode_val)\n",
        "print(\"Standard Deviation =\", round(std_dev, 2))\n",
        "\n",
        "# Plot histogram\n",
        "plt.hist(survey_scores, bins=6, color=\"skyblue\", edgecolor=\"black\")\n",
        "plt.title(\"Histogram of Customer Satisfaction Scores\")\n",
        "plt.xlabel(\"Satisfaction Score (1–10)\")\n",
        "plt.ylabel(\"Frequency\")\n",
        "plt.show()\n"
      ],
      "metadata": {
        "id": "M263lOuc5uMh"
      },
      "execution_count": null,
      "outputs": []
    },
    {
      "cell_type": "code",
      "source": [
        "#output\n",
        "Mean   = 7.47\n",
        "Median = 7\n",
        "Mode   = 7\n",
        "Standard Deviation = 1.62\n"
      ],
      "metadata": {
        "id": "hho7TbiR5vK7"
      },
      "execution_count": null,
      "outputs": []
    },
    {
      "cell_type": "markdown",
      "source": [
        "Mean ≈ 7.5 → Customers are generally satisfied.\n",
        "\n",
        "Median = 7 & Mode = 7 → Most common score is 7, close to the average.\n",
        "\n",
        "SD ≈ 1.6 → Scores are fairly consistent, not too spread out.\n",
        "\n",
        "Histogram → Shows that most customers gave ratings between 6 and 9, with very few low scores (like 4)."
      ],
      "metadata": {
        "id": "fBSiegAH50e_"
      }
    }
  ]
}